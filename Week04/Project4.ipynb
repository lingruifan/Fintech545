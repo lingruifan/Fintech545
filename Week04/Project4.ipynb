{
 "cells": [
  {
   "cell_type": "code",
   "execution_count": 1,
   "id": "0f1bbd36",
   "metadata": {},
   "outputs": [],
   "source": [
    "import numpy as np\n",
    "import pandas as pd\n",
    "import matplotlib.pyplot as plt\n",
    "import seaborn as sns\n",
    "from scipy.stats import norm, t\n",
    "from statsmodels.tsa.arima.model import ARIMA"
   ]
  },
  {
   "cell_type": "code",
   "execution_count": 2,
   "id": "37499430",
   "metadata": {},
   "outputs": [],
   "source": [
    "np.random.seed(42)"
   ]
  },
  {
   "cell_type": "markdown",
   "id": "d6c18f98",
   "metadata": {},
   "source": [
    "# Question 1"
   ]
  },
  {
   "cell_type": "code",
   "execution_count": 3,
   "id": "9c2119a0",
   "metadata": {},
   "outputs": [
    {
     "name": "stdout",
     "output_type": "stream",
     "text": [
      "99.99893200831579 0.5017061030649939\n",
      "99.89320083157868 50.170610306499384\n",
      "4.604102194303878 0.5017061030649937\n"
     ]
    }
   ],
   "source": [
    "sigma = 0.5\n",
    "price_prev = 100\n",
    "\n",
    "r = np.random.normal(0, sigma, 10000)\n",
    "\n",
    "price_classic = np.array(price_prev + r)\n",
    "price_arithmetic = price_prev * (1 + r)\n",
    "price_gbm = price_prev * np.exp(r)\n",
    "\n",
    "print(np.mean(price_classic), np.std(price_classic))\n",
    "print(np.mean(price_arithmetic), np.std(price_arithmetic))\n",
    "print(np.mean(np.log(price_gbm)), np.std(np.log(price_gbm)))"
   ]
  },
  {
   "cell_type": "code",
   "execution_count": 4,
   "id": "5d78589c",
   "metadata": {},
   "outputs": [
    {
     "data": {
      "image/png": "[encoded data removed]",
      "text/plain": [
       "<Figure size 432x720 with 3 Axes>"
      ]
     },
     "metadata": {
      "needs_background": "light"
     },
     "output_type": "display_data"
    }
   ],
   "source": [
    "fig, axes = plt.subplots(3, 1, figsize=(6, 10))\n",
    "axes[0].set_title(\"Classical Brownian Motion\")\n",
    "axes[1].set_title(\"Arithmetic Return System\")\n",
    "axes[2].set_title(\"Geometric Brownian Motion\")\n",
    "axes[0].hist(price_classic, bins=np.arange(min(price_classic), max(price_classic), 0.08), density=True)\n",
    "axes[1].hist(price_arithmetic, bins=np.arange(min(price_arithmetic), max(price_arithmetic), 2), density=True)\n",
    "axes[2].hist(price_gbm, bins=np.arange(min(price_gbm), max(price_gbm), 2), density=True)\n",
    "plt.show()"
   ]
  },
  {
   "cell_type": "markdown",
   "id": "89dd9245",
   "metadata": {},
   "source": [
    "# Question 2"
   ]
  },
  {
   "cell_type": "code",
   "execution_count": 5,
   "id": "910964b3",
   "metadata": {},
   "outputs": [],
   "source": [
    "def return_calculate(price, method = 'discrete'):\n",
    "    returns = []\n",
    "    for i in range(len(price)-1):\n",
    "        returns.append(price[i+1]/price[i])\n",
    "    returns = np.array(returns)\n",
    "    if method == 'discrete':\n",
    "        return returns - 1\n",
    "    if method == 'log':\n",
    "        return np.log(returns)"
   ]
  },
  {
   "cell_type": "code",
   "execution_count": 6,
   "id": "19e084e9",
   "metadata": {},
   "outputs": [],
   "source": [
    "prices_daily = pd.read_csv('DailyPrices.csv')"
   ]
  },
  {
   "cell_type": "code",
   "execution_count": 7,
   "id": "8dca19d2",
   "metadata": {},
   "outputs": [
    {
     "name": "stderr",
     "output_type": "stream",
     "text": [
      "<ipython-input-7-26777d7b1ab3>:5: PerformanceWarning: DataFrame is highly fragmented.  This is usually the result of calling `frame.insert` many times, which has poor performance.  Consider using pd.concat instead.  To get a de-fragmented frame, use `newframe = frame.copy()`\n",
      "  returns[col] = ret\n"
     ]
    },
    {
     "data": {
      "text/html": [
       "<div>\n",
       "<style scoped>\n",
       "    .dataframe tbody tr th:only-of-type {\n",
       "        vertical-align: middle;\n",
       "    }\n",
       "\n",
       "    .dataframe tbody tr th {\n",
       "        vertical-align: top;\n",
       "    }\n",
       "\n",
       "    .dataframe thead th {\n",
       "        text-align: right;\n",
       "    }\n",
       "</style>\n",
       "<table border=\"1\" class=\"dataframe\">\n",
       "  <thead>\n",
       "    <tr style=\"text-align: right;\">\n",
       "      <th></th>\n",
       "      <th>SPY</th>\n",
       "      <th>AAPL</th>\n",
       "      <th>MSFT</th>\n",
       "      <th>AMZN</th>\n",
       "      <th>NVDA</th>\n",
       "      <th>GOOGL</th>\n",
       "      <th>TSLA</th>\n",
       "      <th>GOOG</th>\n",
       "      <th>BRK-B</th>\n",
       "      <th>META</th>\n",
       "      <th>...</th>\n",
       "      <th>CI</th>\n",
       "      <th>ETN</th>\n",
       "      <th>SLB</th>\n",
       "      <th>PGR</th>\n",
       "      <th>SCHW</th>\n",
       "      <th>LRCX</th>\n",
       "      <th>ZTS</th>\n",
       "      <th>C</th>\n",
       "      <th>BSX</th>\n",
       "      <th>AMT</th>\n",
       "    </tr>\n",
       "  </thead>\n",
       "  <tbody>\n",
       "    <tr>\n",
       "      <th>0</th>\n",
       "      <td>-0.010544</td>\n",
       "      <td>-0.013611</td>\n",
       "      <td>-0.016667</td>\n",
       "      <td>-0.002425</td>\n",
       "      <td>-0.020808</td>\n",
       "      <td>-0.017223</td>\n",
       "      <td>-0.025076</td>\n",
       "      <td>-0.016915</td>\n",
       "      <td>-0.016854</td>\n",
       "      <td>-0.030479</td>\n",
       "      <td>...</td>\n",
       "      <td>-0.001180</td>\n",
       "      <td>-0.010593</td>\n",
       "      <td>0.033107</td>\n",
       "      <td>-0.010428</td>\n",
       "      <td>-0.019242</td>\n",
       "      <td>-0.004236</td>\n",
       "      <td>-0.015244</td>\n",
       "      <td>0.001846</td>\n",
       "      <td>-0.012198</td>\n",
       "      <td>-0.026355</td>\n",
       "    </tr>\n",
       "    <tr>\n",
       "      <th>1</th>\n",
       "      <td>-0.003773</td>\n",
       "      <td>-0.008215</td>\n",
       "      <td>-0.010974</td>\n",
       "      <td>-0.010980</td>\n",
       "      <td>-0.013336</td>\n",
       "      <td>-0.009643</td>\n",
       "      <td>0.015581</td>\n",
       "      <td>-0.011042</td>\n",
       "      <td>-0.003890</td>\n",
       "      <td>-0.011103</td>\n",
       "      <td>...</td>\n",
       "      <td>-0.004641</td>\n",
       "      <td>0.008449</td>\n",
       "      <td>-0.014118</td>\n",
       "      <td>0.000572</td>\n",
       "      <td>0.001848</td>\n",
       "      <td>-0.008019</td>\n",
       "      <td>-0.000892</td>\n",
       "      <td>-0.012695</td>\n",
       "      <td>-0.002717</td>\n",
       "      <td>0.013275</td>\n",
       "    </tr>\n",
       "    <tr>\n",
       "      <th>2</th>\n",
       "      <td>0.017965</td>\n",
       "      <td>0.009254</td>\n",
       "      <td>0.019111</td>\n",
       "      <td>0.026723</td>\n",
       "      <td>0.018795</td>\n",
       "      <td>0.024717</td>\n",
       "      <td>0.033817</td>\n",
       "      <td>0.027912</td>\n",
       "      <td>0.016089</td>\n",
       "      <td>0.011669</td>\n",
       "      <td>...</td>\n",
       "      <td>0.016652</td>\n",
       "      <td>0.020295</td>\n",
       "      <td>-0.008030</td>\n",
       "      <td>0.038537</td>\n",
       "      <td>0.018731</td>\n",
       "      <td>0.012279</td>\n",
       "      <td>0.022698</td>\n",
       "      <td>0.008503</td>\n",
       "      <td>0.026994</td>\n",
       "      <td>0.020930</td>\n",
       "    </tr>\n",
       "    <tr>\n",
       "      <th>3</th>\n",
       "      <td>0.006536</td>\n",
       "      <td>-0.009618</td>\n",
       "      <td>0.001666</td>\n",
       "      <td>0.002626</td>\n",
       "      <td>0.020126</td>\n",
       "      <td>-0.009776</td>\n",
       "      <td>0.019598</td>\n",
       "      <td>-0.009595</td>\n",
       "      <td>0.008184</td>\n",
       "      <td>0.010412</td>\n",
       "      <td>...</td>\n",
       "      <td>0.002448</td>\n",
       "      <td>0.013945</td>\n",
       "      <td>0.029951</td>\n",
       "      <td>0.015880</td>\n",
       "      <td>0.019083</td>\n",
       "      <td>0.016574</td>\n",
       "      <td>-0.011908</td>\n",
       "      <td>0.026116</td>\n",
       "      <td>0.029901</td>\n",
       "      <td>0.008362</td>\n",
       "    </tr>\n",
       "    <tr>\n",
       "      <th>4</th>\n",
       "      <td>0.015535</td>\n",
       "      <td>0.018840</td>\n",
       "      <td>0.022977</td>\n",
       "      <td>0.026575</td>\n",
       "      <td>0.028377</td>\n",
       "      <td>0.020945</td>\n",
       "      <td>0.036023</td>\n",
       "      <td>0.021568</td>\n",
       "      <td>0.008576</td>\n",
       "      <td>0.043749</td>\n",
       "      <td>...</td>\n",
       "      <td>0.007327</td>\n",
       "      <td>0.017244</td>\n",
       "      <td>0.038774</td>\n",
       "      <td>-0.004179</td>\n",
       "      <td>0.018863</td>\n",
       "      <td>0.026460</td>\n",
       "      <td>0.036721</td>\n",
       "      <td>0.015431</td>\n",
       "      <td>0.005385</td>\n",
       "      <td>-0.000306</td>\n",
       "    </tr>\n",
       "    <tr>\n",
       "      <th>...</th>\n",
       "      <td>...</td>\n",
       "      <td>...</td>\n",
       "      <td>...</td>\n",
       "      <td>...</td>\n",
       "      <td>...</td>\n",
       "      <td>...</td>\n",
       "      <td>...</td>\n",
       "      <td>...</td>\n",
       "      <td>...</td>\n",
       "      <td>...</td>\n",
       "      <td>...</td>\n",
       "      <td>...</td>\n",
       "      <td>...</td>\n",
       "      <td>...</td>\n",
       "      <td>...</td>\n",
       "      <td>...</td>\n",
       "      <td>...</td>\n",
       "      <td>...</td>\n",
       "      <td>...</td>\n",
       "      <td>...</td>\n",
       "      <td>...</td>\n",
       "    </tr>\n",
       "    <tr>\n",
       "      <th>260</th>\n",
       "      <td>0.000586</td>\n",
       "      <td>0.016913</td>\n",
       "      <td>-0.003513</td>\n",
       "      <td>-0.002920</td>\n",
       "      <td>0.001503</td>\n",
       "      <td>0.005895</td>\n",
       "      <td>-0.033201</td>\n",
       "      <td>0.004772</td>\n",
       "      <td>0.006986</td>\n",
       "      <td>0.007459</td>\n",
       "      <td>...</td>\n",
       "      <td>0.007485</td>\n",
       "      <td>0.006938</td>\n",
       "      <td>0.010399</td>\n",
       "      <td>0.013118</td>\n",
       "      <td>-0.006183</td>\n",
       "      <td>0.020125</td>\n",
       "      <td>-0.003329</td>\n",
       "      <td>-0.001639</td>\n",
       "      <td>0.001890</td>\n",
       "      <td>-0.003386</td>\n",
       "    </tr>\n",
       "    <tr>\n",
       "      <th>261</th>\n",
       "      <td>-0.002074</td>\n",
       "      <td>0.006181</td>\n",
       "      <td>-0.001246</td>\n",
       "      <td>-0.016788</td>\n",
       "      <td>-0.010144</td>\n",
       "      <td>-0.001230</td>\n",
       "      <td>0.004599</td>\n",
       "      <td>-0.000936</td>\n",
       "      <td>0.000135</td>\n",
       "      <td>0.008329</td>\n",
       "      <td>...</td>\n",
       "      <td>-0.002453</td>\n",
       "      <td>-0.013644</td>\n",
       "      <td>-0.012743</td>\n",
       "      <td>0.013589</td>\n",
       "      <td>-0.002247</td>\n",
       "      <td>-0.016519</td>\n",
       "      <td>0.012970</td>\n",
       "      <td>0.000938</td>\n",
       "      <td>0.000566</td>\n",
       "      <td>-0.012087</td>\n",
       "    </tr>\n",
       "    <tr>\n",
       "      <th>262</th>\n",
       "      <td>-0.009193</td>\n",
       "      <td>-0.019992</td>\n",
       "      <td>-0.023977</td>\n",
       "      <td>-0.017002</td>\n",
       "      <td>-0.029435</td>\n",
       "      <td>-0.031150</td>\n",
       "      <td>-0.014672</td>\n",
       "      <td>-0.030541</td>\n",
       "      <td>-0.009879</td>\n",
       "      <td>-0.017701</td>\n",
       "      <td>...</td>\n",
       "      <td>0.009450</td>\n",
       "      <td>-0.006986</td>\n",
       "      <td>-0.010591</td>\n",
       "      <td>0.001544</td>\n",
       "      <td>-0.018361</td>\n",
       "      <td>-0.010062</td>\n",
       "      <td>-0.002748</td>\n",
       "      <td>-0.008903</td>\n",
       "      <td>0.020177</td>\n",
       "      <td>0.000282</td>\n",
       "    </tr>\n",
       "    <tr>\n",
       "      <th>263</th>\n",
       "      <td>-0.016528</td>\n",
       "      <td>-0.008889</td>\n",
       "      <td>-0.003866</td>\n",
       "      <td>-0.044053</td>\n",
       "      <td>-0.028931</td>\n",
       "      <td>-0.024675</td>\n",
       "      <td>-0.026239</td>\n",
       "      <td>-0.023999</td>\n",
       "      <td>-0.009651</td>\n",
       "      <td>-0.013148</td>\n",
       "      <td>...</td>\n",
       "      <td>0.012216</td>\n",
       "      <td>-0.018635</td>\n",
       "      <td>-0.016223</td>\n",
       "      <td>-0.002032</td>\n",
       "      <td>-0.011646</td>\n",
       "      <td>-0.013686</td>\n",
       "      <td>-0.026725</td>\n",
       "      <td>-0.013948</td>\n",
       "      <td>-0.002403</td>\n",
       "      <td>-0.045601</td>\n",
       "    </tr>\n",
       "    <tr>\n",
       "      <th>264</th>\n",
       "      <td>-0.002249</td>\n",
       "      <td>0.004945</td>\n",
       "      <td>-0.007887</td>\n",
       "      <td>-0.001624</td>\n",
       "      <td>0.014457</td>\n",
       "      <td>-0.001457</td>\n",
       "      <td>-0.042315</td>\n",
       "      <td>-0.000837</td>\n",
       "      <td>-0.008588</td>\n",
       "      <td>0.011328</td>\n",
       "      <td>...</td>\n",
       "      <td>-0.004814</td>\n",
       "      <td>0.009542</td>\n",
       "      <td>0.003740</td>\n",
       "      <td>0.006039</td>\n",
       "      <td>-0.015354</td>\n",
       "      <td>0.014286</td>\n",
       "      <td>0.000283</td>\n",
       "      <td>-0.018940</td>\n",
       "      <td>-0.006856</td>\n",
       "      <td>-0.018368</td>\n",
       "    </tr>\n",
       "  </tbody>\n",
       "</table>\n",
       "<p>265 rows × 101 columns</p>\n",
       "</div>"
      ],
      "text/plain": [
       "          SPY      AAPL      MSFT      AMZN      NVDA     GOOGL      TSLA  \\\n",
       "0   -0.010544 -0.013611 -0.016667 -0.002425 -0.020808 -0.017223 -0.025076   \n",
       "1   -0.003773 -0.008215 -0.010974 -0.010980 -0.013336 -0.009643  0.015581   \n",
       "2    0.017965  0.009254  0.019111  0.026723  0.018795  0.024717  0.033817   \n",
       "3    0.006536 -0.009618  0.001666  0.002626  0.020126 -0.009776  0.019598   \n",
       "4    0.015535  0.018840  0.022977  0.026575  0.028377  0.020945  0.036023   \n",
       "..        ...       ...       ...       ...       ...       ...       ...   \n",
       "260  0.000586  0.016913 -0.003513 -0.002920  0.001503  0.005895 -0.033201   \n",
       "261 -0.002074  0.006181 -0.001246 -0.016788 -0.010144 -0.001230  0.004599   \n",
       "262 -0.009193 -0.019992 -0.023977 -0.017002 -0.029435 -0.031150 -0.014672   \n",
       "263 -0.016528 -0.008889 -0.003866 -0.044053 -0.028931 -0.024675 -0.026239   \n",
       "264 -0.002249  0.004945 -0.007887 -0.001624  0.014457 -0.001457 -0.042315   \n",
       "\n",
       "         GOOG     BRK-B      META  ...        CI       ETN       SLB  \\\n",
       "0   -0.016915 -0.016854 -0.030479  ... -0.001180 -0.010593  0.033107   \n",
       "1   -0.011042 -0.003890 -0.011103  ... -0.004641  0.008449 -0.014118   \n",
       "2    0.027912  0.016089  0.011669  ...  0.016652  0.020295 -0.008030   \n",
       "3   -0.009595  0.008184  0.010412  ...  0.002448  0.013945  0.029951   \n",
       "4    0.021568  0.008576  0.043749  ...  0.007327  0.017244  0.038774   \n",
       "..        ...       ...       ...  ...       ...       ...       ...   \n",
       "260  0.004772  0.006986  0.007459  ...  0.007485  0.006938  0.010399   \n",
       "261 -0.000936  0.000135  0.008329  ... -0.002453 -0.013644 -0.012743   \n",
       "262 -0.030541 -0.009879 -0.017701  ...  0.009450 -0.006986 -0.010591   \n",
       "263 -0.023999 -0.009651 -0.013148  ...  0.012216 -0.018635 -0.016223   \n",
       "264 -0.000837 -0.008588  0.011328  ... -0.004814  0.009542  0.003740   \n",
       "\n",
       "          PGR      SCHW      LRCX       ZTS         C       BSX       AMT  \n",
       "0   -0.010428 -0.019242 -0.004236 -0.015244  0.001846 -0.012198 -0.026355  \n",
       "1    0.000572  0.001848 -0.008019 -0.000892 -0.012695 -0.002717  0.013275  \n",
       "2    0.038537  0.018731  0.012279  0.022698  0.008503  0.026994  0.020930  \n",
       "3    0.015880  0.019083  0.016574 -0.011908  0.026116  0.029901  0.008362  \n",
       "4   -0.004179  0.018863  0.026460  0.036721  0.015431  0.005385 -0.000306  \n",
       "..        ...       ...       ...       ...       ...       ...       ...  \n",
       "260  0.013118 -0.006183  0.020125 -0.003329 -0.001639  0.001890 -0.003386  \n",
       "261  0.013589 -0.002247 -0.016519  0.012970  0.000938  0.000566 -0.012087  \n",
       "262  0.001544 -0.018361 -0.010062 -0.002748 -0.008903  0.020177  0.000282  \n",
       "263 -0.002032 -0.011646 -0.013686 -0.026725 -0.013948 -0.002403 -0.045601  \n",
       "264  0.006039 -0.015354  0.014286  0.000283 -0.018940 -0.006856 -0.018368  \n",
       "\n",
       "[265 rows x 101 columns]"
      ]
     },
     "execution_count": 7,
     "metadata": {},
     "output_type": "execute_result"
    }
   ],
   "source": [
    "prices_dropdate = prices_daily.drop(['Date'], axis=1)\n",
    "returns = pd.DataFrame()\n",
    "for col in prices_dropdate:\n",
    "    ret = return_calculate(prices_dropdate[col])\n",
    "    returns[col] = ret\n",
    "returns"
   ]
  },
  {
   "cell_type": "code",
   "execution_count": 8,
   "id": "387b78f6",
   "metadata": {},
   "outputs": [
    {
     "data": {
      "text/plain": [
       "0     -0.033266\n",
       "1     -0.013890\n",
       "2      0.008882\n",
       "3      0.007625\n",
       "4      0.040962\n",
       "         ...   \n",
       "260    0.004672\n",
       "261    0.005542\n",
       "262   -0.020488\n",
       "263   -0.015935\n",
       "264    0.008541\n",
       "Name: META, Length: 265, dtype: float64"
      ]
     },
     "execution_count": 8,
     "metadata": {},
     "output_type": "execute_result"
    }
   ],
   "source": [
    "meta = returns['META'] - np.mean(returns['META'])\n",
    "meta"
   ]
  },
  {
   "cell_type": "code",
   "execution_count": 9,
   "id": "43fb49dc",
   "metadata": {},
   "outputs": [
    {
     "data": {
      "text/plain": [
       "0.0027871363461748136"
      ]
     },
     "execution_count": 9,
     "metadata": {},
     "output_type": "execute_result"
    }
   ],
   "source": [
    "returns['META'].mean()"
   ]
  },
  {
   "cell_type": "code",
   "execution_count": 10,
   "id": "a748823a",
   "metadata": {},
   "outputs": [],
   "source": [
    "def calculate_var(data, alpha=0.05):\n",
    "    return -np.quantile(data, alpha)"
   ]
  },
  {
   "cell_type": "code",
   "execution_count": 11,
   "id": "8e931671",
   "metadata": {},
   "outputs": [],
   "source": [
    "# Using the normal distribution\n",
    "def calculate_var_normal(returns, n=10000, alpha=0.05):\n",
    "    mu = returns.mean()\n",
    "    sigma = returns.std()\n",
    "    sim_returns = np.random.normal(mu, sigma, n)\n",
    "    var_normal = calculate_var(sim_returns, alpha)\n",
    "    return var_normal, sim_returns"
   ]
  },
  {
   "cell_type": "code",
   "execution_count": 12,
   "id": "781353b9",
   "metadata": {},
   "outputs": [
    {
     "data": {
      "text/plain": [
       "(0.053114302582064433,\n",
       " array([-0.02239312, -0.01008274, -0.01971603, ...,  0.01248724,\n",
       "         0.05655353, -0.05346401]))"
      ]
     },
     "execution_count": 12,
     "metadata": {},
     "output_type": "execute_result"
    }
   ],
   "source": [
    "calculate_var_normal(meta)"
   ]
  },
  {
   "cell_type": "code",
   "execution_count": 13,
   "id": "69de9768",
   "metadata": {},
   "outputs": [],
   "source": [
    "# Using normal distr with exp weighted var (lambda = 0.94)\n",
    "\n",
    "# Generate the exponential weights and covariance matrix from last week\n",
    "def expWeights(n, lambd):\n",
    "    weights = np.zeros(n)\n",
    "    for i in range(1, n+1):\n",
    "        weights[i-1] = (1-lambd) * (lambd**(i-1))\n",
    "    normWeights = weights / np.sum(weights)\n",
    "    return normWeights[::-1]\n",
    "\n",
    "def expCovMat(data, weights):\n",
    "    normData = data - data.mean()\n",
    "    return np.dot(data.T, np.diag(weights) @ data)\n",
    "\n",
    "def calculate_var_ew_normal(returns, lambd=0.94, n=10000, alpha=0.05):\n",
    "    mu = returns.mean()\n",
    "    weights = expWeights(len(returns), lambd)\n",
    "    exp_cov = expCovMat(np.matrix(returns).T, weights)\n",
    "    sigma = np.sqrt(exp_cov[0, 0])\n",
    "    sim_returns = np.random.normal(mu, sigma, n)\n",
    "    var_ew = calculate_var(sim_returns, alpha)\n",
    "    return var_ew, sim_returns"
   ]
  },
  {
   "cell_type": "code",
   "execution_count": 14,
   "id": "ac274134",
   "metadata": {},
   "outputs": [
    {
     "data": {
      "text/plain": [
       "(0.029473650417218195,\n",
       " array([ 0.00634845,  0.00516433, -0.01707058, ..., -0.00913876,\n",
       "        -0.03449326, -0.00417203]))"
      ]
     },
     "execution_count": 14,
     "metadata": {},
     "output_type": "execute_result"
    }
   ],
   "source": [
    "calculate_var_ew_normal(meta)"
   ]
  },
  {
   "cell_type": "code",
   "execution_count": 15,
   "id": "eb9b01e3",
   "metadata": {},
   "outputs": [],
   "source": [
    "# Using MLE fitted T distribution\n",
    "def calculate_var_t_MLE(returns, n=10000, alpha=0.05):\n",
    "    ret = t.fit(returns)\n",
    "    df, mu, sigma = ret[0], ret[1], ret[2]\n",
    "    sim_returns = t(df, mu, sigma).rvs(n)\n",
    "    var_t = calculate_var(sim_returns, alpha)\n",
    "    return var_t, sim_returns"
   ]
  },
  {
   "cell_type": "code",
   "execution_count": 16,
   "id": "344e4d6a",
   "metadata": {},
   "outputs": [
    {
     "data": {
      "text/plain": [
       "(0.04317863044237405,\n",
       " array([-0.07424834,  0.00264643, -0.02956836, ..., -0.00549164,\n",
       "         0.02786801,  0.00715518]))"
      ]
     },
     "execution_count": 16,
     "metadata": {},
     "output_type": "execute_result"
    }
   ],
   "source": [
    "calculate_var_t_MLE(meta)"
   ]
  },
  {
   "cell_type": "code",
   "execution_count": null,
   "id": "7ed1caf8",
   "metadata": {},
   "outputs": [],
   "source": []
  },
  {
   "cell_type": "code",
   "execution_count": 17,
   "id": "a4b7bcbe",
   "metadata": {},
   "outputs": [
    {
     "name": "stdout",
     "output_type": "stream",
     "text": [
      "                               SARIMAX Results                                \n",
      "==============================================================================\n",
      "Dep. Variable:                   META   No. Observations:                  265\n",
      "Model:                 ARIMA(1, 0, 0)   Log Likelihood                 528.712\n",
      "Date:                Sat, 30 Sep 2023   AIC                          -1051.423\n",
      "Time:                        21:33:48   BIC                          -1040.684\n",
      "Sample:                             0   HQIC                         -1047.108\n",
      "                                - 265                                         \n",
      "Covariance Type:                  opg                                         \n",
      "==============================================================================\n",
      "                 coef    std err          z      P>|z|      [0.025      0.975]\n",
      "------------------------------------------------------------------------------\n",
      "const       -1.14e-06      0.002     -0.001      1.000      -0.004       0.004\n",
      "ar.L1          0.0461      0.081      0.569      0.569      -0.113       0.205\n",
      "sigma2         0.0011   4.17e-05     25.987      0.000       0.001       0.001\n",
      "===================================================================================\n",
      "Ljung-Box (L1) (Q):                   0.00   Jarque-Bera (JB):              4463.63\n",
      "Prob(Q):                              0.99   Prob(JB):                         0.00\n",
      "Heteroskedasticity (H):               0.20   Skew:                             0.00\n",
      "Prob(H) (two-sided):                  0.00   Kurtosis:                        23.11\n",
      "===================================================================================\n",
      "\n",
      "Warnings:\n",
      "[1] Covariance matrix calculated using the outer product of gradients (complex-step).\n"
     ]
    }
   ],
   "source": [
    "model = ARIMA(meta, order=(1,0,0))\n",
    "res = model.fit()\n",
    "print(res.summary())"
   ]
  },
  {
   "cell_type": "code",
   "execution_count": 18,
   "id": "2530aa5a",
   "metadata": {},
   "outputs": [],
   "source": [
    "# Using fitted AR(1) model\n",
    "def calculate_var_ar1(returns, n=10000, alpha=0.05):\n",
    "    mu = returns.mean()\n",
    "    model = ARIMA(meta, order=(1, 0, 0))\n",
    "    res = model.fit()\n",
    "    sigma = np.sqrt(res.params['sigma2'])\n",
    "    sim_returns = np.random.normal(mu, sigma, n)\n",
    "    var_ar1 = calculate_var(sim_returns, alpha)\n",
    "    return var_ar1, sim_returns"
   ]
  },
  {
   "cell_type": "code",
   "execution_count": 19,
   "id": "0a93b850",
   "metadata": {},
   "outputs": [
    {
     "data": {
      "text/plain": [
       "(0.05372682125862187,\n",
       " array([ 0.06618556, -0.01082361, -0.028055  , ...,  0.03028093,\n",
       "         0.03697072,  0.04997547]))"
      ]
     },
     "execution_count": 19,
     "metadata": {},
     "output_type": "execute_result"
    }
   ],
   "source": [
    "calculate_var_ar1(meta)"
   ]
  },
  {
   "cell_type": "code",
   "execution_count": 20,
   "id": "4eb7349e",
   "metadata": {},
   "outputs": [
    {
     "data": {
      "text/plain": [
       "0.03948424995533789"
      ]
     },
     "execution_count": 20,
     "metadata": {},
     "output_type": "execute_result"
    }
   ],
   "source": [
    "# Using historic simulation\n",
    "calculate_var(meta)"
   ]
  },
  {
   "cell_type": "code",
   "execution_count": 21,
   "id": "3ceec71f",
   "metadata": {},
   "outputs": [],
   "source": [
    "def plot_histogram_with_var(series, var, title):\n",
    "    plt.hist(series, bins=80, density=True, alpha=0.5)\n",
    "    plt.axvline(-var, color='r', linestyle='--')\n",
    "    plt.title(title + ' = {:.6f}'.format(var))\n",
    "    plt.savefig(title, dpi =300)\n",
    "    plt.show()"
   ]
  },
  {
   "cell_type": "code",
   "execution_count": 22,
   "id": "4404109d",
   "metadata": {},
   "outputs": [
    {
     "data": {
      "image/png": "[encoded data removed]",
      "text/plain": [
       "<Figure size 432x288 with 1 Axes>"
      ]
     },
     "metadata": {
      "needs_background": "light"
     },
     "output_type": "display_data"
    },
    {
     "data": {
      "image/png": "[encoded data removed]",
      "text/plain": [
       "<Figure size 432x288 with 1 Axes>"
      ]
     },
     "metadata": {
      "needs_background": "light"
     },
     "output_type": "display_data"
    },
    {
     "data": {
      "image/png": "[encoded data removed]",
      "text/plain": [
       "<Figure size 432x288 with 1 Axes>"
      ]
     },
     "metadata": {
      "needs_background": "light"
     },
     "output_type": "display_data"
    },
    {
     "data": {
      "image/png": "[encoded data removed]",
      "text/plain": [
       "<Figure size 432x288 with 1 Axes>"
      ]
     },
     "metadata": {
      "needs_background": "light"
     },
     "output_type": "display_data"
    },
    {
     "data": {
      "image/png": "[encoded data removed]",
      "text/plain": [
       "<Figure size 432x288 with 1 Axes>"
      ]
     },
     "metadata": {
      "needs_background": "light"
     },
     "output_type": "display_data"
    }
   ],
   "source": [
    "var_normal, returns_normal = calculate_var_normal(meta)\n",
    "plot_histogram_with_var(returns_normal, var_normal, \"VaR_normal distribution\")\n",
    "\n",
    "var_ew, returns_ew = calculate_var_ew_normal(meta)\n",
    "plot_histogram_with_var(returns_ew, var_ew, \"VaR_normal distribution with EW\")\n",
    "\n",
    "var_t, returns_t = calculate_var_t_MLE(meta)\n",
    "plot_histogram_with_var(returns_t, var_t, \"VaR_T-distribution\")\n",
    "\n",
    "var_ar1, returns_ar1 = calculate_var_ar1(meta)\n",
    "plot_histogram_with_var(returns_ar1, var_ar1, \"VaR_AR(1)\")\n",
    "\n",
    "var_hist = calculate_var(meta)\n",
    "returns_hist = meta\n",
    "plot_histogram_with_var(returns_hist, var_hist, \"VaR_historic simulation\")"
   ]
  },
  {
   "cell_type": "markdown",
   "id": "e0f706a5",
   "metadata": {},
   "source": [
    "# Question 3"
   ]
  },
  {
   "cell_type": "code",
   "execution_count": 23,
   "id": "4e53f588",
   "metadata": {},
   "outputs": [],
   "source": [
    "portfolio = pd.read_csv(\"portfolio.csv\")"
   ]
  },
  {
   "cell_type": "code",
   "execution_count": 24,
   "id": "9e6e2f3f",
   "metadata": {},
   "outputs": [
    {
     "data": {
      "text/html": [
       "<div>\n",
       "<style scoped>\n",
       "    .dataframe tbody tr th:only-of-type {\n",
       "        vertical-align: middle;\n",
       "    }\n",
       "\n",
       "    .dataframe tbody tr th {\n",
       "        vertical-align: top;\n",
       "    }\n",
       "\n",
       "    .dataframe thead th {\n",
       "        text-align: right;\n",
       "    }\n",
       "</style>\n",
       "<table border=\"1\" class=\"dataframe\">\n",
       "  <thead>\n",
       "    <tr style=\"text-align: right;\">\n",
       "      <th></th>\n",
       "      <th>Portfolio</th>\n",
       "      <th>Stock</th>\n",
       "      <th>Holding</th>\n",
       "    </tr>\n",
       "  </thead>\n",
       "  <tbody>\n",
       "    <tr>\n",
       "      <th>0</th>\n",
       "      <td>A</td>\n",
       "      <td>AAPL</td>\n",
       "      <td>158</td>\n",
       "    </tr>\n",
       "    <tr>\n",
       "      <th>1</th>\n",
       "      <td>A</td>\n",
       "      <td>MSFT</td>\n",
       "      <td>178</td>\n",
       "    </tr>\n",
       "    <tr>\n",
       "      <th>2</th>\n",
       "      <td>A</td>\n",
       "      <td>AMZN</td>\n",
       "      <td>110</td>\n",
       "    </tr>\n",
       "    <tr>\n",
       "      <th>3</th>\n",
       "      <td>A</td>\n",
       "      <td>NVDA</td>\n",
       "      <td>54</td>\n",
       "    </tr>\n",
       "    <tr>\n",
       "      <th>4</th>\n",
       "      <td>A</td>\n",
       "      <td>GOOGL</td>\n",
       "      <td>69</td>\n",
       "    </tr>\n",
       "  </tbody>\n",
       "</table>\n",
       "</div>"
      ],
      "text/plain": [
       "  Portfolio  Stock  Holding\n",
       "0         A   AAPL      158\n",
       "1         A   MSFT      178\n",
       "2         A   AMZN      110\n",
       "3         A   NVDA       54\n",
       "4         A  GOOGL       69"
      ]
     },
     "execution_count": 24,
     "metadata": {},
     "output_type": "execute_result"
    }
   ],
   "source": [
    "portfolio.head()"
   ]
  },
  {
   "cell_type": "code",
   "execution_count": 25,
   "id": "54c47363",
   "metadata": {},
   "outputs": [
    {
     "name": "stderr",
     "output_type": "stream",
     "text": [
      "<ipython-input-25-96e08e9bf55d>:6: PerformanceWarning: DataFrame is highly fragmented.  This is usually the result of calling `frame.insert` many times, which has poor performance.  Consider using pd.concat instead.  To get a de-fragmented frame, use `newframe = frame.copy()`\n",
      "  returns_discrete[col] = ret_discrete\n",
      "<ipython-input-25-96e08e9bf55d>:7: PerformanceWarning: DataFrame is highly fragmented.  This is usually the result of calling `frame.insert` many times, which has poor performance.  Consider using pd.concat instead.  To get a de-fragmented frame, use `newframe = frame.copy()`\n",
      "  returns_log[col] = ret_log\n"
     ]
    }
   ],
   "source": [
    "returns_discrete = pd.DataFrame()\n",
    "returns_log = pd.DataFrame()\n",
    "for col in prices_dropdate:\n",
    "    ret_discrete = return_calculate(prices_dropdate[col])\n",
    "    ret_log = return_calculate(prices_dropdate[col], method=\"log\")\n",
    "    returns_discrete[col] = ret_discrete\n",
    "    returns_log[col] = ret_log"
   ]
  },
  {
   "cell_type": "code",
   "execution_count": 26,
   "id": "740153c6",
   "metadata": {},
   "outputs": [],
   "source": [
    "portfolio['Price'] = np.zeros(portfolio.shape[0])"
   ]
  },
  {
   "cell_type": "code",
   "execution_count": 27,
   "id": "5697e502",
   "metadata": {},
   "outputs": [
    {
     "name": "stderr",
     "output_type": "stream",
     "text": [
      "<ipython-input-27-35d2cd383afb>:5: SettingWithCopyWarning: \n",
      "A value is trying to be set on a copy of a slice from a DataFrame\n",
      "\n",
      "See the caveats in the documentation: https://pandas.pydata.org/pandas-docs/stable/user_guide/indexing.html#returning-a-view-versus-a-copy\n",
      "  portfolio['Price'][i] = price\n"
     ]
    }
   ],
   "source": [
    "# Grab the prices and present values (Holding * Price) of each stock\n",
    "for i in range(len(portfolio['Stock'])):\n",
    "    stock = portfolio['Stock'][i]\n",
    "    price = prices_daily.iloc[-1][stock]\n",
    "    portfolio['Price'][i] = price\n",
    "portfolio['PV'] = portfolio['Holding']*portfolio['Price']"
   ]
  },
  {
   "cell_type": "code",
   "execution_count": 28,
   "id": "6afff9b3",
   "metadata": {},
   "outputs": [],
   "source": [
    "portfolioA = portfolio[portfolio['Portfolio'] == 'A']\n",
    "portfolioB = portfolio[portfolio['Portfolio'] == 'B']\n",
    "portfolioC = portfolio[portfolio['Portfolio'] == 'C']"
   ]
  },
  {
   "cell_type": "code",
   "execution_count": 32,
   "id": "1894f377",
   "metadata": {},
   "outputs": [
    {
     "data": {
      "text/html": [
       "<div>\n",
       "<style scoped>\n",
       "    .dataframe tbody tr th:only-of-type {\n",
       "        vertical-align: middle;\n",
       "    }\n",
       "\n",
       "    .dataframe tbody tr th {\n",
       "        vertical-align: top;\n",
       "    }\n",
       "\n",
       "    .dataframe thead th {\n",
       "        text-align: right;\n",
       "    }\n",
       "</style>\n",
       "<table border=\"1\" class=\"dataframe\">\n",
       "  <thead>\n",
       "    <tr style=\"text-align: right;\">\n",
       "      <th></th>\n",
       "      <th>Portfolio</th>\n",
       "      <th>Stock</th>\n",
       "      <th>Holding</th>\n",
       "      <th>Price</th>\n",
       "      <th>PV</th>\n",
       "      <th>Weight</th>\n",
       "    </tr>\n",
       "  </thead>\n",
       "  <tbody>\n",
       "    <tr>\n",
       "      <th>0</th>\n",
       "      <td>A</td>\n",
       "      <td>AAPL</td>\n",
       "      <td>158</td>\n",
       "      <td>174.789993</td>\n",
       "      <td>27616.818894</td>\n",
       "      <td>0.025352</td>\n",
       "    </tr>\n",
       "    <tr>\n",
       "      <th>1</th>\n",
       "      <td>A</td>\n",
       "      <td>MSFT</td>\n",
       "      <td>178</td>\n",
       "      <td>317.010010</td>\n",
       "      <td>56427.781780</td>\n",
       "      <td>0.051801</td>\n",
       "    </tr>\n",
       "    <tr>\n",
       "      <th>2</th>\n",
       "      <td>A</td>\n",
       "      <td>AMZN</td>\n",
       "      <td>110</td>\n",
       "      <td>129.119995</td>\n",
       "      <td>14203.199450</td>\n",
       "      <td>0.013039</td>\n",
       "    </tr>\n",
       "    <tr>\n",
       "      <th>3</th>\n",
       "      <td>A</td>\n",
       "      <td>NVDA</td>\n",
       "      <td>54</td>\n",
       "      <td>416.100006</td>\n",
       "      <td>22469.400324</td>\n",
       "      <td>0.020627</td>\n",
       "    </tr>\n",
       "    <tr>\n",
       "      <th>4</th>\n",
       "      <td>A</td>\n",
       "      <td>GOOGL</td>\n",
       "      <td>69</td>\n",
       "      <td>130.250000</td>\n",
       "      <td>8987.250000</td>\n",
       "      <td>0.008250</td>\n",
       "    </tr>\n",
       "  </tbody>\n",
       "</table>\n",
       "</div>"
      ],
      "text/plain": [
       "  Portfolio  Stock  Holding       Price            PV    Weight\n",
       "0         A   AAPL      158  174.789993  27616.818894  0.025352\n",
       "1         A   MSFT      178  317.010010  56427.781780  0.051801\n",
       "2         A   AMZN      110  129.119995  14203.199450  0.013039\n",
       "3         A   NVDA       54  416.100006  22469.400324  0.020627\n",
       "4         A  GOOGL       69  130.250000   8987.250000  0.008250"
      ]
     },
     "execution_count": 32,
     "metadata": {},
     "output_type": "execute_result"
    }
   ],
   "source": [
    "portfolioA.head()"
   ]
  },
  {
   "cell_type": "code",
   "execution_count": 29,
   "id": "47d5cbff",
   "metadata": {},
   "outputs": [
    {
     "name": "stderr",
     "output_type": "stream",
     "text": [
      "/Users/fanlingrui/opt/anaconda3/lib/python3.8/site-packages/pandas/core/frame.py:3607: SettingWithCopyWarning: \n",
      "A value is trying to be set on a copy of a slice from a DataFrame.\n",
      "Try using .loc[row_indexer,col_indexer] = value instead\n",
      "\n",
      "See the caveats in the documentation: https://pandas.pydata.org/pandas-docs/stable/user_guide/indexing.html#returning-a-view-versus-a-copy\n",
      "  self._set_item(key, value)\n",
      "<ipython-input-29-2086b63b912b>:9: SettingWithCopyWarning: \n",
      "A value is trying to be set on a copy of a slice from a DataFrame\n",
      "\n",
      "See the caveats in the documentation: https://pandas.pydata.org/pandas-docs/stable/user_guide/indexing.html#returning-a-view-versus-a-copy\n",
      "  port['Weight'][i] = weight\n"
     ]
    }
   ],
   "source": [
    "# calculate the weights of each stock in the portfolio in terms of the PV\n",
    "ports = [portfolioA, portfolioB, portfolioC]\n",
    "for port in ports:\n",
    "    total = np.sum(port['PV'])\n",
    "    port['Weight'] = np.zeros(port.shape[0])\n",
    "    for i in port.index:\n",
    "        stock = port['Stock'][i]\n",
    "        weight = port['PV'][i] / total\n",
    "        port['Weight'][i] = weight"
   ]
  },
  {
   "cell_type": "code",
   "execution_count": 35,
   "id": "5d53a5a0",
   "metadata": {},
   "outputs": [],
   "source": [
    "def calculate_return(price, method = 'discrete'):\n",
    "    if method == 'discrete':\n",
    "        return price.pct_change()\n",
    "    if method == 'log':\n",
    "        return np.log(price / price.shift(1))"
   ]
  },
  {
   "cell_type": "code",
   "execution_count": 36,
   "id": "807d351a",
   "metadata": {},
   "outputs": [],
   "source": [
    "def expWeightCov(prices, portfolio, method = 'discrete'):\n",
    "    price = portfolio['Price']\n",
    "    returns = calculate_return(price, method = method).dropna()\n",
    "    weight = expWeights(len(returns), 0.94)\n",
    "    cov = expCovMat(returns, weight)\n",
    "    return cov"
   ]
  },
  {
   "cell_type": "code",
   "execution_count": 40,
   "id": "b27cc467",
   "metadata": {},
   "outputs": [],
   "source": [
    "port_VaRs = []\n",
    "for port in ports:\n",
    "    expCov = expWeightCov(prices_daily, port, method='discrete')\n",
    "    weights = np.array(port['Weight'])\n",
    "    var = np.dot(weights.T, np.dot(expCov, weights))\n",
    "    pv = np.sum(port['PV'])\n",
    "    total = pv * np.sqrt(var)\n",
    "    port_VaRs.append(total)"
   ]
  },
  {
   "cell_type": "code",
   "execution_count": 41,
   "id": "c74e17a4",
   "metadata": {},
   "outputs": [
    {
     "data": {
      "text/plain": [
       "[1221192.815806087, 311765.65104989, 1432179.1876477783]"
      ]
     },
     "execution_count": 41,
     "metadata": {},
     "output_type": "execute_result"
    }
   ],
   "source": [
    "port_VaRs"
   ]
  },
  {
   "cell_type": "code",
   "execution_count": 42,
   "id": "450461d0",
   "metadata": {},
   "outputs": [
    {
     "data": {
      "text/plain": [
       "2965137.6545037553"
      ]
     },
     "execution_count": 42,
     "metadata": {},
     "output_type": "execute_result"
    }
   ],
   "source": [
    "sum(port_VaRs)"
   ]
  },
  {
   "cell_type": "code",
   "execution_count": 43,
   "id": "b8434c86",
   "metadata": {},
   "outputs": [],
   "source": [
    "port_VaRs = []\n",
    "for port in ports:\n",
    "    price = port['Price']\n",
    "    returns = calculate_return(price, method='log').dropna()\n",
    "    covMat = np.cov(returns)\n",
    "    weights = np.array(port['Weight'])\n",
    "    var = np.dot(weights.T, np.dot(covMat, weights))\n",
    "    pv = np.sum(port['PV'])\n",
    "    total = pv * np.sqrt(var)\n",
    "    port_VaRs.append(total)"
   ]
  },
  {
   "cell_type": "code",
   "execution_count": 44,
   "id": "3fecc66a",
   "metadata": {},
   "outputs": [
    {
     "data": {
      "text/plain": [
       "[290230.6066184526, 168863.01047636627, 673778.5791593153]"
      ]
     },
     "execution_count": 44,
     "metadata": {},
     "output_type": "execute_result"
    }
   ],
   "source": [
    "port_VaRs"
   ]
  },
  {
   "cell_type": "code",
   "execution_count": 45,
   "id": "ada28dc9",
   "metadata": {},
   "outputs": [
    {
     "data": {
      "text/plain": [
       "1132872.1962541342"
      ]
     },
     "execution_count": 45,
     "metadata": {},
     "output_type": "execute_result"
    }
   ],
   "source": [
    "sum(port_VaRs)"
   ]
  }
 ],
 "metadata": {
  "kernelspec": {
   "display_name": "Python 3",
   "language": "python",
   "name": "python3"
  },
  "language_info": {
   "codemirror_mode": {
    "name": "ipython",
    "version": 3
   },
   "file_extension": ".py",
   "mimetype": "text/x-python",
   "name": "python",
   "nbconvert_exporter": "python",
   "pygments_lexer": "ipython3",
   "version": "3.8.8"
  }
 },
 "nbformat": 4,
 "nbformat_minor": 5
}
