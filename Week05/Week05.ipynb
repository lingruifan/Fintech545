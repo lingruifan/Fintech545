{
 "cells": [
  {
   "cell_type": "code",
   "execution_count": 121,
   "id": "13fe1ec4",
   "metadata": {},
   "outputs": [],
   "source": [
    "import pandas as pd\n",
    "import numpy as np\n",
    "import matplotlib.pyplot as plt\n",
    "%matplotlib inline\n",
    "from scipy.stats import norm, t, shapiro\n",
    "import risk_mgm_lib as rml\n",
    "import seaborn as sns\n",
    "import copy"
   ]
  },
  {
   "cell_type": "code",
   "execution_count": 79,
   "id": "65541c18",
   "metadata": {},
   "outputs": [],
   "source": [
    "np.random.seed(42)"
   ]
  },
  {
   "cell_type": "markdown",
   "id": "dad96cea",
   "metadata": {},
   "source": [
    "# Problem 1"
   ]
  },
  {
   "cell_type": "code",
   "execution_count": 3,
   "id": "7bd0b428",
   "metadata": {},
   "outputs": [
    {
     "data": {
      "text/html": [
       "<div>\n",
       "<style scoped>\n",
       "    .dataframe tbody tr th:only-of-type {\n",
       "        vertical-align: middle;\n",
       "    }\n",
       "\n",
       "    .dataframe tbody tr th {\n",
       "        vertical-align: top;\n",
       "    }\n",
       "\n",
       "    .dataframe thead th {\n",
       "        text-align: right;\n",
       "    }\n",
       "</style>\n",
       "<table border=\"1\" class=\"dataframe\">\n",
       "  <thead>\n",
       "    <tr style=\"text-align: right;\">\n",
       "      <th></th>\n",
       "      <th>x</th>\n",
       "    </tr>\n",
       "  </thead>\n",
       "  <tbody>\n",
       "    <tr>\n",
       "      <th>0</th>\n",
       "      <td>-0.002665</td>\n",
       "    </tr>\n",
       "    <tr>\n",
       "      <th>1</th>\n",
       "      <td>-0.045128</td>\n",
       "    </tr>\n",
       "    <tr>\n",
       "      <th>2</th>\n",
       "      <td>0.053635</td>\n",
       "    </tr>\n",
       "    <tr>\n",
       "      <th>3</th>\n",
       "      <td>0.010450</td>\n",
       "    </tr>\n",
       "    <tr>\n",
       "      <th>4</th>\n",
       "      <td>-0.016284</td>\n",
       "    </tr>\n",
       "  </tbody>\n",
       "</table>\n",
       "</div>"
      ],
      "text/plain": [
       "          x\n",
       "0 -0.002665\n",
       "1 -0.045128\n",
       "2  0.053635\n",
       "3  0.010450\n",
       "4 -0.016284"
      ]
     },
     "execution_count": 3,
     "metadata": {},
     "output_type": "execute_result"
    }
   ],
   "source": [
    "data = pd.read_csv('problem1.csv')\n",
    "data.head()"
   ]
  },
  {
   "cell_type": "code",
   "execution_count": 4,
   "id": "04ee9b31",
   "metadata": {},
   "outputs": [],
   "source": [
    "# Fit a normal and t distribution\n",
    "mu, std = norm.fit(data)\n",
    "df, loc, scale = t.fit(data)"
   ]
  },
  {
   "cell_type": "code",
   "execution_count": 5,
   "id": "9f3fdb2f",
   "metadata": {},
   "outputs": [],
   "source": [
    "n = 10000\n",
    "normalData = norm.rvs(mu, std, size=n)\n",
    "tData = t.rvs(df, loc, scale, size=n)"
   ]
  },
  {
   "cell_type": "code",
   "execution_count": 6,
   "id": "f3bfeb34",
   "metadata": {},
   "outputs": [
    {
     "name": "stdout",
     "output_type": "stream",
     "text": [
      "Normal distribution VaR: 0.08174370098009144\n",
      "T distribution VaR: 0.07468632530344022\n",
      "\n",
      "Normal distribution ES: 0.1022921725527085\n",
      "T distribution ES: 0.11106424051510075\n"
     ]
    }
   ],
   "source": [
    "# Calculate VaR\n",
    "normalVar = rml.calculateVar(normalData)\n",
    "tVar = rml.calculateVar(tData)\n",
    "print(\"Normal distribution VaR: \" + str(normalVar))\n",
    "print(\"T distribution VaR: \" + str(tVar))\n",
    "print()\n",
    "\n",
    "# Calculate ES\n",
    "normalES = rml.calculateES(normalData)\n",
    "tES = rml.calculateES(tData)\n",
    "print(\"Normal distribution ES: \" + str(normalES))\n",
    "print(\"T distribution ES: \" + str(tES))"
   ]
  },
  {
   "cell_type": "code",
   "execution_count": 7,
   "id": "63fa63de",
   "metadata": {},
   "outputs": [
    {
     "data": {
      "image/png": "[encoded data removed]",
      "text/plain": [
       "<Figure size 432x288 with 1 Axes>"
      ]
     },
     "metadata": {
      "needs_background": "light"
     },
     "output_type": "display_data"
    }
   ],
   "source": [
    "plt.figure()\n",
    "norm_color = \"b\"\n",
    "t_color = \"r\"\n",
    "\n",
    "# plot histogram and 2 distributions PDFs\n",
    "sns.histplot(data, stat=\"density\", color=\"#cadea5\")\n",
    "sns.kdeplot(normalData, color=norm_color, label='Normal')\n",
    "sns.kdeplot(tData, color=t_color, label='T')\n",
    "\n",
    "# overlay the VaR and ES on existing plot\n",
    "plt.axvline(-normalVar, color=norm_color, linestyle='--')\n",
    "plt.axvline(-tVar, color=t_color, linestyle='--')\n",
    "plt.axvline(-normalES, 0, 0.3, color=norm_color)\n",
    "plt.axvline(-tES, 0, 0.3, color=t_color)\n",
    "\n",
    "plt.xlim(-0.5, 0.5)\n",
    "plt.legend()\n",
    "\n",
    "plt.savefig('ES.png')\n",
    "plt.show()"
   ]
  },
  {
   "cell_type": "markdown",
   "id": "8f7cdfa8",
   "metadata": {},
   "source": [
    "# Problem 2"
   ]
  },
  {
   "cell_type": "code",
   "execution_count": 80,
   "id": "29cc96d4",
   "metadata": {},
   "outputs": [],
   "source": [
    "returns = pd.read_csv('DailyReturn.csv', index_col=0)\n",
    "prices = pd.read_csv('DailyPrices.csv', index_col=0)\n",
    "portfolio = pd.read_csv('portfolio.csv')"
   ]
  },
  {
   "cell_type": "code",
   "execution_count": 9,
   "id": "d27ca680",
   "metadata": {},
   "outputs": [
    {
     "data": {
      "text/html": [
       "<div>\n",
       "<style scoped>\n",
       "    .dataframe tbody tr th:only-of-type {\n",
       "        vertical-align: middle;\n",
       "    }\n",
       "\n",
       "    .dataframe tbody tr th {\n",
       "        vertical-align: top;\n",
       "    }\n",
       "\n",
       "    .dataframe thead th {\n",
       "        text-align: right;\n",
       "    }\n",
       "</style>\n",
       "<table border=\"1\" class=\"dataframe\">\n",
       "  <thead>\n",
       "    <tr style=\"text-align: right;\">\n",
       "      <th></th>\n",
       "      <th>SPY</th>\n",
       "      <th>AAPL</th>\n",
       "      <th>MSFT</th>\n",
       "      <th>AMZN</th>\n",
       "      <th>TSLA</th>\n",
       "      <th>GOOGL</th>\n",
       "      <th>GOOG</th>\n",
       "      <th>META</th>\n",
       "      <th>NVDA</th>\n",
       "      <th>BRK-B</th>\n",
       "      <th>...</th>\n",
       "      <th>PNC</th>\n",
       "      <th>MDLZ</th>\n",
       "      <th>MO</th>\n",
       "      <th>ADI</th>\n",
       "      <th>GILD</th>\n",
       "      <th>LMT</th>\n",
       "      <th>SYK</th>\n",
       "      <th>GM</th>\n",
       "      <th>TFC</th>\n",
       "      <th>TJX</th>\n",
       "    </tr>\n",
       "  </thead>\n",
       "  <tbody>\n",
       "    <tr>\n",
       "      <th>44606.0</th>\n",
       "      <td>-0.003269</td>\n",
       "      <td>0.001423</td>\n",
       "      <td>-0.000136</td>\n",
       "      <td>0.012222</td>\n",
       "      <td>0.018326</td>\n",
       "      <td>0.009260</td>\n",
       "      <td>0.008723</td>\n",
       "      <td>-0.008426</td>\n",
       "      <td>0.013278</td>\n",
       "      <td>-0.015228</td>\n",
       "      <td>...</td>\n",
       "      <td>-0.013455</td>\n",
       "      <td>-0.008396</td>\n",
       "      <td>-0.005559</td>\n",
       "      <td>0.000520</td>\n",
       "      <td>-0.015466</td>\n",
       "      <td>-0.023272</td>\n",
       "      <td>-0.004768</td>\n",
       "      <td>-0.008806</td>\n",
       "      <td>-0.009122</td>\n",
       "      <td>-0.010335</td>\n",
       "    </tr>\n",
       "    <tr>\n",
       "      <th>44607.0</th>\n",
       "      <td>0.016127</td>\n",
       "      <td>0.023152</td>\n",
       "      <td>0.018542</td>\n",
       "      <td>0.008658</td>\n",
       "      <td>0.053291</td>\n",
       "      <td>0.007987</td>\n",
       "      <td>0.008319</td>\n",
       "      <td>0.015158</td>\n",
       "      <td>0.091812</td>\n",
       "      <td>0.006109</td>\n",
       "      <td>...</td>\n",
       "      <td>0.012807</td>\n",
       "      <td>-0.004082</td>\n",
       "      <td>0.004592</td>\n",
       "      <td>0.052344</td>\n",
       "      <td>0.003600</td>\n",
       "      <td>-0.012275</td>\n",
       "      <td>0.033021</td>\n",
       "      <td>0.026240</td>\n",
       "      <td>0.028571</td>\n",
       "      <td>0.013237</td>\n",
       "    </tr>\n",
       "    <tr>\n",
       "      <th>44608.0</th>\n",
       "      <td>0.001121</td>\n",
       "      <td>-0.001389</td>\n",
       "      <td>-0.001167</td>\n",
       "      <td>0.010159</td>\n",
       "      <td>0.001041</td>\n",
       "      <td>0.008268</td>\n",
       "      <td>0.007784</td>\n",
       "      <td>-0.020181</td>\n",
       "      <td>0.000604</td>\n",
       "      <td>-0.001739</td>\n",
       "      <td>...</td>\n",
       "      <td>0.006757</td>\n",
       "      <td>-0.002429</td>\n",
       "      <td>0.005763</td>\n",
       "      <td>0.038879</td>\n",
       "      <td>0.009294</td>\n",
       "      <td>0.012244</td>\n",
       "      <td>0.003363</td>\n",
       "      <td>0.015301</td>\n",
       "      <td>-0.001389</td>\n",
       "      <td>-0.025983</td>\n",
       "    </tr>\n",
       "    <tr>\n",
       "      <th>44609.0</th>\n",
       "      <td>-0.021361</td>\n",
       "      <td>-0.021269</td>\n",
       "      <td>-0.029282</td>\n",
       "      <td>-0.021809</td>\n",
       "      <td>-0.050943</td>\n",
       "      <td>-0.037746</td>\n",
       "      <td>-0.037669</td>\n",
       "      <td>-0.040778</td>\n",
       "      <td>-0.075591</td>\n",
       "      <td>-0.006653</td>\n",
       "      <td>...</td>\n",
       "      <td>-0.034949</td>\n",
       "      <td>0.005326</td>\n",
       "      <td>0.015017</td>\n",
       "      <td>-0.046988</td>\n",
       "      <td>-0.009855</td>\n",
       "      <td>0.004833</td>\n",
       "      <td>-0.030856</td>\n",
       "      <td>-0.031925</td>\n",
       "      <td>-0.033380</td>\n",
       "      <td>-0.028763</td>\n",
       "    </tr>\n",
       "    <tr>\n",
       "      <th>44610.0</th>\n",
       "      <td>-0.006475</td>\n",
       "      <td>-0.009356</td>\n",
       "      <td>-0.009631</td>\n",
       "      <td>-0.013262</td>\n",
       "      <td>-0.022103</td>\n",
       "      <td>-0.016116</td>\n",
       "      <td>-0.013914</td>\n",
       "      <td>-0.007462</td>\n",
       "      <td>-0.035296</td>\n",
       "      <td>0.003987</td>\n",
       "      <td>...</td>\n",
       "      <td>-0.000646</td>\n",
       "      <td>-0.000908</td>\n",
       "      <td>0.007203</td>\n",
       "      <td>-0.000436</td>\n",
       "      <td>-0.003916</td>\n",
       "      <td>-0.005942</td>\n",
       "      <td>-0.013674</td>\n",
       "      <td>-0.004506</td>\n",
       "      <td>-0.003677</td>\n",
       "      <td>0.015038</td>\n",
       "    </tr>\n",
       "  </tbody>\n",
       "</table>\n",
       "<p>5 rows × 100 columns</p>\n",
       "</div>"
      ],
      "text/plain": [
       "              SPY      AAPL      MSFT      AMZN      TSLA     GOOGL      GOOG  \\\n",
       "44606.0 -0.003269  0.001423 -0.000136  0.012222  0.018326  0.009260  0.008723   \n",
       "44607.0  0.016127  0.023152  0.018542  0.008658  0.053291  0.007987  0.008319   \n",
       "44608.0  0.001121 -0.001389 -0.001167  0.010159  0.001041  0.008268  0.007784   \n",
       "44609.0 -0.021361 -0.021269 -0.029282 -0.021809 -0.050943 -0.037746 -0.037669   \n",
       "44610.0 -0.006475 -0.009356 -0.009631 -0.013262 -0.022103 -0.016116 -0.013914   \n",
       "\n",
       "             META      NVDA     BRK-B  ...       PNC      MDLZ        MO  \\\n",
       "44606.0 -0.008426  0.013278 -0.015228  ... -0.013455 -0.008396 -0.005559   \n",
       "44607.0  0.015158  0.091812  0.006109  ...  0.012807 -0.004082  0.004592   \n",
       "44608.0 -0.020181  0.000604 -0.001739  ...  0.006757 -0.002429  0.005763   \n",
       "44609.0 -0.040778 -0.075591 -0.006653  ... -0.034949  0.005326  0.015017   \n",
       "44610.0 -0.007462 -0.035296  0.003987  ... -0.000646 -0.000908  0.007203   \n",
       "\n",
       "              ADI      GILD       LMT       SYK        GM       TFC       TJX  \n",
       "44606.0  0.000520 -0.015466 -0.023272 -0.004768 -0.008806 -0.009122 -0.010335  \n",
       "44607.0  0.052344  0.003600 -0.012275  0.033021  0.026240  0.028571  0.013237  \n",
       "44608.0  0.038879  0.009294  0.012244  0.003363  0.015301 -0.001389 -0.025983  \n",
       "44609.0 -0.046988 -0.009855  0.004833 -0.030856 -0.031925 -0.033380 -0.028763  \n",
       "44610.0 -0.000436 -0.003916 -0.005942 -0.013674 -0.004506 -0.003677  0.015038  \n",
       "\n",
       "[5 rows x 100 columns]"
      ]
     },
     "execution_count": 9,
     "metadata": {},
     "output_type": "execute_result"
    }
   ],
   "source": [
    "returns.head()"
   ]
  },
  {
   "cell_type": "code",
   "execution_count": 10,
   "id": "9e8500e2",
   "metadata": {},
   "outputs": [
    {
     "name": "stdout",
     "output_type": "stream",
     "text": [
      "(249,)\n",
      "(100, 100)\n"
     ]
    }
   ],
   "source": [
    "#1. Covariance estimation techniques\n",
    "weights = rml.expWeights(returns.shape[0], 0.94)\n",
    "print(weights.shape)\n",
    "cov = rml.expCovMat(returns, weights)\n",
    "print(cov.shape)"
   ]
  },
  {
   "cell_type": "code",
   "execution_count": 120,
   "id": "3ad4a6b5",
   "metadata": {},
   "outputs": [
    {
     "name": "stdout",
     "output_type": "stream",
     "text": [
      "True\n",
      "True\n"
     ]
    }
   ],
   "source": [
    "#2. Non PSD fixes for correlation matrices\n",
    "n = 500\n",
    "sigma = np.matrix(np.full((n, n), 0.9))\n",
    "np.fill_diagonal(sigma, 1.0)\n",
    "sigma[2, 1] = 0.7357\n",
    "sigma[1, 2] = 0.7357\n",
    "\n",
    "print(rml.isPSD(rml.nearPSD(sigma)))\n",
    "print(rml.isPSD(rml.highamPSD(sigma)))"
   ]
  },
  {
   "cell_type": "code",
   "execution_count": 12,
   "id": "7f57bbf0",
   "metadata": {},
   "outputs": [
    {
     "name": "stdout",
     "output_type": "stream",
     "text": [
      "(100, 25000)\n",
      "(100, 25000)\n"
     ]
    }
   ],
   "source": [
    "#3. Simulation Methods\n",
    "print(rml.multVarNormGen(cov).shape)\n",
    "print(rml.simulationPCA(cov, 0.75).shape)"
   ]
  },
  {
   "cell_type": "code",
   "execution_count": 13,
   "id": "8b67c457",
   "metadata": {},
   "outputs": [
    {
     "name": "stdout",
     "output_type": "stream",
     "text": [
      "0.030447208289108126\n",
      "0.029607003309013388\n",
      "0.024076408055577626\n",
      "0.028356755509246618\n",
      "0.030447208289108126\n"
     ]
    }
   ],
   "source": [
    "#4. VaR calculation methods (all discussed)\n",
    "samplePrice = prices.iloc[:,1]\n",
    "sampleReturn = rml.calculateReturn(samplePrice)\n",
    "sampleReturn = sampleReturn - np.mean(sampleReturn)\n",
    "\n",
    "print(rml.calculateVar(sampleReturn))\n",
    "print(rml.normalVar(sampleReturn))\n",
    "print(rml.ewcovNormalVar(sampleReturn))\n",
    "print(rml.tVar(sampleReturn))\n",
    "print(rml.historicVar(sampleReturn))"
   ]
  },
  {
   "cell_type": "code",
   "execution_count": 14,
   "id": "bf4fe3b4",
   "metadata": {},
   "outputs": [
    {
     "name": "stdout",
     "output_type": "stream",
     "text": [
      "0.03977450991511538\n"
     ]
    }
   ],
   "source": [
    "#5. ES calculation\n",
    "print(rml.calculateES(sampleReturn))"
   ]
  },
  {
   "cell_type": "markdown",
   "id": "ed3eadd3",
   "metadata": {},
   "source": [
    "# Problem 3\n",
    "Use your repository from #2.\n",
    "Using Portfolio.csv and DailyPrices.csv.  Assume the expected return on all stocks is 0.\n",
    "This file contains the stock holdings of 3 portfolios.  You own each of these portfolios.\n",
    "Fit a Generalized T model to each stock and calculate the VaR and ES of each portfolio as well as your\n",
    "total VaR and ES.  Compare the results from this to your VaR form Problem 3 from Week 4."
   ]
  },
  {
   "cell_type": "code",
   "execution_count": 81,
   "id": "9a267e68",
   "metadata": {},
   "outputs": [
    {
     "data": {
      "text/html": [
       "<div>\n",
       "<style scoped>\n",
       "    .dataframe tbody tr th:only-of-type {\n",
       "        vertical-align: middle;\n",
       "    }\n",
       "\n",
       "    .dataframe tbody tr th {\n",
       "        vertical-align: top;\n",
       "    }\n",
       "\n",
       "    .dataframe thead th {\n",
       "        text-align: right;\n",
       "    }\n",
       "</style>\n",
       "<table border=\"1\" class=\"dataframe\">\n",
       "  <thead>\n",
       "    <tr style=\"text-align: right;\">\n",
       "      <th></th>\n",
       "      <th>Portfolio</th>\n",
       "      <th>Stock</th>\n",
       "      <th>Holding</th>\n",
       "    </tr>\n",
       "  </thead>\n",
       "  <tbody>\n",
       "    <tr>\n",
       "      <th>0</th>\n",
       "      <td>A</td>\n",
       "      <td>AAPL</td>\n",
       "      <td>158</td>\n",
       "    </tr>\n",
       "    <tr>\n",
       "      <th>1</th>\n",
       "      <td>A</td>\n",
       "      <td>MSFT</td>\n",
       "      <td>178</td>\n",
       "    </tr>\n",
       "    <tr>\n",
       "      <th>2</th>\n",
       "      <td>A</td>\n",
       "      <td>AMZN</td>\n",
       "      <td>110</td>\n",
       "    </tr>\n",
       "    <tr>\n",
       "      <th>3</th>\n",
       "      <td>A</td>\n",
       "      <td>NVDA</td>\n",
       "      <td>54</td>\n",
       "    </tr>\n",
       "    <tr>\n",
       "      <th>4</th>\n",
       "      <td>A</td>\n",
       "      <td>GOOGL</td>\n",
       "      <td>69</td>\n",
       "    </tr>\n",
       "  </tbody>\n",
       "</table>\n",
       "</div>"
      ],
      "text/plain": [
       "  Portfolio  Stock  Holding\n",
       "0         A   AAPL      158\n",
       "1         A   MSFT      178\n",
       "2         A   AMZN      110\n",
       "3         A   NVDA       54\n",
       "4         A  GOOGL       69"
      ]
     },
     "execution_count": 81,
     "metadata": {},
     "output_type": "execute_result"
    }
   ],
   "source": [
    "portfolio.head()"
   ]
  },
  {
   "cell_type": "code",
   "execution_count": 82,
   "id": "5899d5e7",
   "metadata": {},
   "outputs": [
    {
     "data": {
      "text/html": [
       "<div>\n",
       "<style scoped>\n",
       "    .dataframe tbody tr th:only-of-type {\n",
       "        vertical-align: middle;\n",
       "    }\n",
       "\n",
       "    .dataframe tbody tr th {\n",
       "        vertical-align: top;\n",
       "    }\n",
       "\n",
       "    .dataframe thead th {\n",
       "        text-align: right;\n",
       "    }\n",
       "</style>\n",
       "<table border=\"1\" class=\"dataframe\">\n",
       "  <thead>\n",
       "    <tr style=\"text-align: right;\">\n",
       "      <th></th>\n",
       "      <th>SPY</th>\n",
       "      <th>AAPL</th>\n",
       "      <th>MSFT</th>\n",
       "      <th>AMZN</th>\n",
       "      <th>NVDA</th>\n",
       "      <th>GOOGL</th>\n",
       "      <th>TSLA</th>\n",
       "      <th>GOOG</th>\n",
       "      <th>BRK-B</th>\n",
       "      <th>META</th>\n",
       "      <th>...</th>\n",
       "      <th>CI</th>\n",
       "      <th>ETN</th>\n",
       "      <th>SLB</th>\n",
       "      <th>PGR</th>\n",
       "      <th>SCHW</th>\n",
       "      <th>LRCX</th>\n",
       "      <th>ZTS</th>\n",
       "      <th>C</th>\n",
       "      <th>BSX</th>\n",
       "      <th>AMT</th>\n",
       "    </tr>\n",
       "    <tr>\n",
       "      <th>Date</th>\n",
       "      <th></th>\n",
       "      <th></th>\n",
       "      <th></th>\n",
       "      <th></th>\n",
       "      <th></th>\n",
       "      <th></th>\n",
       "      <th></th>\n",
       "      <th></th>\n",
       "      <th></th>\n",
       "      <th></th>\n",
       "      <th></th>\n",
       "      <th></th>\n",
       "      <th></th>\n",
       "      <th></th>\n",
       "      <th></th>\n",
       "      <th></th>\n",
       "      <th></th>\n",
       "      <th></th>\n",
       "      <th></th>\n",
       "      <th></th>\n",
       "      <th></th>\n",
       "    </tr>\n",
       "  </thead>\n",
       "  <tbody>\n",
       "    <tr>\n",
       "      <th>2022-09-02</th>\n",
       "      <td>-0.010992</td>\n",
       "      <td>-0.014177</td>\n",
       "      <td>-0.017632</td>\n",
       "      <td>-0.002763</td>\n",
       "      <td>-0.025527</td>\n",
       "      <td>-0.018099</td>\n",
       "      <td>-0.025331</td>\n",
       "      <td>-0.017797</td>\n",
       "      <td>-0.017836</td>\n",
       "      <td>-0.033266</td>\n",
       "      <td>...</td>\n",
       "      <td>-0.001401</td>\n",
       "      <td>-0.012419</td>\n",
       "      <td>0.030937</td>\n",
       "      <td>-0.011172</td>\n",
       "      <td>-0.018637</td>\n",
       "      <td>-0.006037</td>\n",
       "      <td>-0.015836</td>\n",
       "      <td>0.002191</td>\n",
       "      <td>-0.013291</td>\n",
       "      <td>-0.024982</td>\n",
       "    </tr>\n",
       "    <tr>\n",
       "      <th>2022-09-06</th>\n",
       "      <td>-0.004221</td>\n",
       "      <td>-0.008781</td>\n",
       "      <td>-0.011940</td>\n",
       "      <td>-0.011317</td>\n",
       "      <td>-0.018055</td>\n",
       "      <td>-0.010519</td>\n",
       "      <td>0.015325</td>\n",
       "      <td>-0.011924</td>\n",
       "      <td>-0.004872</td>\n",
       "      <td>-0.013890</td>\n",
       "      <td>...</td>\n",
       "      <td>-0.004862</td>\n",
       "      <td>0.006623</td>\n",
       "      <td>-0.016289</td>\n",
       "      <td>-0.000172</td>\n",
       "      <td>0.002453</td>\n",
       "      <td>-0.009821</td>\n",
       "      <td>-0.001483</td>\n",
       "      <td>-0.012350</td>\n",
       "      <td>-0.003810</td>\n",
       "      <td>0.014647</td>\n",
       "    </tr>\n",
       "    <tr>\n",
       "      <th>2022-09-07</th>\n",
       "      <td>0.017517</td>\n",
       "      <td>0.008688</td>\n",
       "      <td>0.018146</td>\n",
       "      <td>0.026385</td>\n",
       "      <td>0.014076</td>\n",
       "      <td>0.023841</td>\n",
       "      <td>0.033561</td>\n",
       "      <td>0.027030</td>\n",
       "      <td>0.015107</td>\n",
       "      <td>0.008882</td>\n",
       "      <td>...</td>\n",
       "      <td>0.016431</td>\n",
       "      <td>0.018469</td>\n",
       "      <td>-0.010200</td>\n",
       "      <td>0.037793</td>\n",
       "      <td>0.019336</td>\n",
       "      <td>0.010477</td>\n",
       "      <td>0.022107</td>\n",
       "      <td>0.008847</td>\n",
       "      <td>0.025901</td>\n",
       "      <td>0.022302</td>\n",
       "    </tr>\n",
       "    <tr>\n",
       "      <th>2022-09-08</th>\n",
       "      <td>0.006088</td>\n",
       "      <td>-0.010184</td>\n",
       "      <td>0.000700</td>\n",
       "      <td>0.002288</td>\n",
       "      <td>0.015407</td>\n",
       "      <td>-0.010652</td>\n",
       "      <td>0.019343</td>\n",
       "      <td>-0.010477</td>\n",
       "      <td>0.007202</td>\n",
       "      <td>0.007625</td>\n",
       "      <td>...</td>\n",
       "      <td>0.002228</td>\n",
       "      <td>0.012119</td>\n",
       "      <td>0.027781</td>\n",
       "      <td>0.015137</td>\n",
       "      <td>0.019688</td>\n",
       "      <td>0.014773</td>\n",
       "      <td>-0.012499</td>\n",
       "      <td>0.026460</td>\n",
       "      <td>0.028808</td>\n",
       "      <td>0.009735</td>\n",
       "    </tr>\n",
       "    <tr>\n",
       "      <th>2022-09-09</th>\n",
       "      <td>0.015087</td>\n",
       "      <td>0.018274</td>\n",
       "      <td>0.022011</td>\n",
       "      <td>0.026238</td>\n",
       "      <td>0.023659</td>\n",
       "      <td>0.020069</td>\n",
       "      <td>0.035767</td>\n",
       "      <td>0.020686</td>\n",
       "      <td>0.007594</td>\n",
       "      <td>0.040962</td>\n",
       "      <td>...</td>\n",
       "      <td>0.007106</td>\n",
       "      <td>0.015418</td>\n",
       "      <td>0.036603</td>\n",
       "      <td>-0.004923</td>\n",
       "      <td>0.019468</td>\n",
       "      <td>0.024658</td>\n",
       "      <td>0.036130</td>\n",
       "      <td>0.015775</td>\n",
       "      <td>0.004292</td>\n",
       "      <td>0.001067</td>\n",
       "    </tr>\n",
       "  </tbody>\n",
       "</table>\n",
       "<p>5 rows × 101 columns</p>\n",
       "</div>"
      ],
      "text/plain": [
       "                 SPY      AAPL      MSFT      AMZN      NVDA     GOOGL  \\\n",
       "Date                                                                     \n",
       "2022-09-02 -0.010992 -0.014177 -0.017632 -0.002763 -0.025527 -0.018099   \n",
       "2022-09-06 -0.004221 -0.008781 -0.011940 -0.011317 -0.018055 -0.010519   \n",
       "2022-09-07  0.017517  0.008688  0.018146  0.026385  0.014076  0.023841   \n",
       "2022-09-08  0.006088 -0.010184  0.000700  0.002288  0.015407 -0.010652   \n",
       "2022-09-09  0.015087  0.018274  0.022011  0.026238  0.023659  0.020069   \n",
       "\n",
       "                TSLA      GOOG     BRK-B      META  ...        CI       ETN  \\\n",
       "Date                                                ...                       \n",
       "2022-09-02 -0.025331 -0.017797 -0.017836 -0.033266  ... -0.001401 -0.012419   \n",
       "2022-09-06  0.015325 -0.011924 -0.004872 -0.013890  ... -0.004862  0.006623   \n",
       "2022-09-07  0.033561  0.027030  0.015107  0.008882  ...  0.016431  0.018469   \n",
       "2022-09-08  0.019343 -0.010477  0.007202  0.007625  ...  0.002228  0.012119   \n",
       "2022-09-09  0.035767  0.020686  0.007594  0.040962  ...  0.007106  0.015418   \n",
       "\n",
       "                 SLB       PGR      SCHW      LRCX       ZTS         C  \\\n",
       "Date                                                                     \n",
       "2022-09-02  0.030937 -0.011172 -0.018637 -0.006037 -0.015836  0.002191   \n",
       "2022-09-06 -0.016289 -0.000172  0.002453 -0.009821 -0.001483 -0.012350   \n",
       "2022-09-07 -0.010200  0.037793  0.019336  0.010477  0.022107  0.008847   \n",
       "2022-09-08  0.027781  0.015137  0.019688  0.014773 -0.012499  0.026460   \n",
       "2022-09-09  0.036603 -0.004923  0.019468  0.024658  0.036130  0.015775   \n",
       "\n",
       "                 BSX       AMT  \n",
       "Date                            \n",
       "2022-09-02 -0.013291 -0.024982  \n",
       "2022-09-06 -0.003810  0.014647  \n",
       "2022-09-07  0.025901  0.022302  \n",
       "2022-09-08  0.028808  0.009735  \n",
       "2022-09-09  0.004292  0.001067  \n",
       "\n",
       "[5 rows x 101 columns]"
      ]
     },
     "execution_count": 82,
     "metadata": {},
     "output_type": "execute_result"
    }
   ],
   "source": [
    "# mean 0 of returns\n",
    "returns = prices.pct_change().dropna(how='all')\n",
    "returns = returns - np.mean(returns)\n",
    "returns.head()"
   ]
  },
  {
   "cell_type": "code",
   "execution_count": 83,
   "id": "65807363",
   "metadata": {},
   "outputs": [],
   "source": [
    "A = portfolio[portfolio['Portfolio'] == 'A']\n",
    "B = portfolio[portfolio['Portfolio'] == 'B']\n",
    "C = portfolio[portfolio['Portfolio'] == 'C']"
   ]
  },
  {
   "cell_type": "code",
   "execution_count": 85,
   "id": "33c204cb",
   "metadata": {},
   "outputs": [],
   "source": [
    "#calculate PV\n",
    "def getStockPrice(price, portfolio):\n",
    "    pv = []\n",
    "    for stock in portfolio['Stock']:\n",
    "        pv.append(price.iloc[-1][stock])\n",
    "    return np.array(pv)\n",
    "\n",
    "# get stock returns\n",
    "def getReturn(portfolio):\n",
    "    ret = []\n",
    "    for stock in portfolio['Stock'].tolist():\n",
    "        ret.append((returns[stock]).tolist())\n",
    "    ret = pd.DataFrame(ret).T\n",
    "    return ret"
   ]
  },
  {
   "cell_type": "code",
   "execution_count": 88,
   "id": "a0dc89c6",
   "metadata": {},
   "outputs": [],
   "source": [
    "# fit generalized T model on each stock and get the porftolio values\n",
    "def calc_T_portVals(portfolio, ret, price):\n",
    "    # fit the return data with t distribution and collect the params and CDFs\n",
    "    cdf = []\n",
    "    params = []\n",
    "    for col in ret.columns:\n",
    "        df, loc, scale = t.fit(ret[col].values)\n",
    "        params.append([df,loc,scale])\n",
    "        cdf.append(t.cdf(ret[col].values, df=df, loc=loc, scale=scale).tolist())\n",
    "    cdf = pd.DataFrame(cdf).T\n",
    "    \n",
    "    \n",
    "    spearmanCorr = cdf.corr(method='spearman')\n",
    "    sample = pd.DataFrame(rml.simulationPCA(spearmanCorr, 0.95)).T\n",
    "    sampleCDF = []\n",
    "    for col in sample.columns:\n",
    "        sampleCDF.append(norm.cdf(sample[col].values, loc=0, scale=1).tolist())\n",
    "        \n",
    "    simReturns = []\n",
    "    for i in range(len(sampleCDF)):\n",
    "        simReturns.append(t.ppf(cdf[i], df=params[i][0], loc=params[i][1], scale=params[i][2]))\n",
    "    simReturns = np.array(simReturns)\n",
    "\n",
    "    simPrice = (1 + simReturns.T)*price\n",
    "    portVals = simPrice.dot(portfolio['Holding'])\n",
    "    portVals.sort()\n",
    "    \n",
    "    return portVals"
   ]
  },
  {
   "cell_type": "code",
   "execution_count": 89,
   "id": "b13f1c19",
   "metadata": {},
   "outputs": [
    {
     "name": "stdout",
     "output_type": "stream",
     "text": [
      "VaR:  18242.436491595116\n",
      "ES:  29137.406036398206\n"
     ]
    }
   ],
   "source": [
    "returns_A = getReturn(A)\n",
    "prices_A = getStockPrice(prices, A)\n",
    "pv_A = np.sum(A['Holding'] * prices_A)\n",
    "portValues_A = calc_T_portVals(A, returns_A, prices_A)\n",
    "\n",
    "print(\"VaR: \", rml.calculateVar(portValues_A, pv_A))\n",
    "print(\"ES: \", rml.calculateES(pv_A - portValues_A))"
   ]
  },
  {
   "cell_type": "code",
   "execution_count": 90,
   "id": "d367c6ef",
   "metadata": {},
   "outputs": [
    {
     "name": "stdout",
     "output_type": "stream",
     "text": [
      "VaR:  11337.063397467136\n",
      "ES:  15782.464133424477\n"
     ]
    }
   ],
   "source": [
    "returns_B = getReturn(B)\n",
    "prices_B = getStockPrice(prices, B)\n",
    "pv_B = np.sum(B['Holding'] * prices_B)\n",
    "portValues_B = calc_T_portVals(B, returns_B, prices_B)\n",
    "\n",
    "print(\"VaR: \", rml.calculateVar(portValues_B, pv_B))\n",
    "print(\"ES: \", rml.calculateES(pv_B - portValues_B))"
   ]
  },
  {
   "cell_type": "code",
   "execution_count": 91,
   "id": "8dffb35a",
   "metadata": {},
   "outputs": [
    {
     "name": "stdout",
     "output_type": "stream",
     "text": [
      "VaR:  23752.397536223754\n",
      "ES:  37556.295508312425\n"
     ]
    }
   ],
   "source": [
    "returns_C = getReturn(C)\n",
    "prices_C = getStockPrice(prices, C)\n",
    "pv_C = np.sum(C['Holding'] * prices_C)\n",
    "portValues_C = calc_T_portVals(C, returns_C, prices_C)\n",
    "\n",
    "print(\"VaR: \", rml.calculateVar(portValues_C, pv_C))\n",
    "print(\"ES: \", rml.calculateES(pv_C - portValues_C))"
   ]
  },
  {
   "cell_type": "code",
   "execution_count": 92,
   "id": "b6d5400e",
   "metadata": {},
   "outputs": [
    {
     "name": "stdout",
     "output_type": "stream",
     "text": [
      "VaR:  50682.26743179932\n",
      "ES:  78666.7443152048\n"
     ]
    }
   ],
   "source": [
    "returns_P = getReturn(portfolio)\n",
    "prices_P = getStockPrice(prices, portfolio)\n",
    "pv_P = np.sum(portfolio['Holding'] * prices_P)\n",
    "portValues_P = calc_T_portVals(portfolio, returns_P, prices_P)\n",
    "\n",
    "print(\"VaR: \", rml.calculateVar(portValues_P, pv_P))\n",
    "print(\"ES: \", rml.calculateES(pv_P - portValues_P))"
   ]
  },
  {
   "cell_type": "code",
   "execution_count": 122,
   "id": "8e393a04",
   "metadata": {},
   "outputs": [
    {
     "name": "stderr",
     "output_type": "stream",
     "text": [
      "/Users/fanlingrui/opt/anaconda3/lib/python3.8/site-packages/scipy/stats/_morestats.py:1816: UserWarning: p-value may not be accurate for N > 5000.\n",
      "  warnings.warn(\"p-value may not be accurate for N > 5000.\")\n"
     ]
    }
   ],
   "source": [
    "norm_test = shapiro(returns)"
   ]
  },
  {
   "cell_type": "code",
   "execution_count": 132,
   "id": "e6445712",
   "metadata": {},
   "outputs": [],
   "source": [
    "pvalues = []\n",
    "count = 0\n",
    "for stock in returns.columns:\n",
    "    test = shapiro(returns[stock])\n",
    "    pvalues.append(test.pvalue)\n",
    "    if test.pvalue < 0.05:\n",
    "        count += 1"
   ]
  },
  {
   "cell_type": "code",
   "execution_count": 133,
   "id": "c4d35b3f",
   "metadata": {},
   "outputs": [
    {
     "data": {
      "text/plain": [
       "96"
      ]
     },
     "execution_count": 133,
     "metadata": {},
     "output_type": "execute_result"
    }
   ],
   "source": [
    "count"
   ]
  },
  {
   "cell_type": "code",
   "execution_count": null,
   "id": "8befdaf6",
   "metadata": {},
   "outputs": [],
   "source": [
    "len(returns)"
   ]
  },
  {
   "cell_type": "code",
   "execution_count": null,
   "id": "14db24e6",
   "metadata": {},
   "outputs": [],
   "source": []
  }
 ],
 "metadata": {
  "kernelspec": {
   "display_name": "Python 3",
   "language": "python",
   "name": "python3"
  },
  "language_info": {
   "codemirror_mode": {
    "name": "ipython",
    "version": 3
   },
   "file_extension": ".py",
   "mimetype": "text/x-python",
   "name": "python",
   "nbconvert_exporter": "python",
   "pygments_lexer": "ipython3",
   "version": "3.8.8"
  }
 },
 "nbformat": 4,
 "nbformat_minor": 5
}
